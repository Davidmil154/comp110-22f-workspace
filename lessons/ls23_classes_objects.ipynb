{
 "cells": [
  {
   "cell_type": "markdown",
   "metadata": {},
   "source": [
    "# classes and objects\n"
   ]
  },
  {
   "cell_type": "code",
   "execution_count": 17,
   "metadata": {},
   "outputs": [],
   "source": [
    "class Pizza:\n",
    "    \"\"\"doc string, models idea of a pizza\"\"\"\n",
    "\n",
    "    #attribute def\n",
    "    size: str\n",
    "    toppings: int\n",
    "    extra_cheese: bool = False\n",
    "\n",
    "    def __init__(self, size: str, toppings: int):\n",
    "        \"\"\"Constructor definition for initialization of attributes.\"\"\"\n",
    "        self.size = size\n",
    "        self.toppings = toppings\n",
    "\n",
    "    def price(self, tax: float) -> float:\n",
    "        \"\"\"Calculate the price of a pizza. self parameter must come first if self is used.\"\"\"\n",
    "        total: float = 0.0\n",
    "        if self.size == \"large\":\n",
    "            total += 10.0\n",
    "        else:\n",
    "            total += 8.0\n",
    "\n",
    "        total += self.toppings * 0.75\n",
    "\n",
    "        if self.extra_cheese:\n",
    "            total += 1.0\n",
    "\n",
    "        total *= tax\n",
    "\n",
    "        return total\n"
   ]
  },
  {
   "cell_type": "code",
   "execution_count": 18,
   "metadata": {},
   "outputs": [],
   "source": [
    "    def price(pizza: Pizza) -> float:\n",
    "        \"\"\"Calculate the price of a pizza.\"\"\"\n",
    "        total: float = 0.0\n",
    "        if pizza.size == \"large\":\n",
    "            total += 10.0\n",
    "        else:\n",
    "            total += 8.0\n",
    "\n",
    "        total += pizza.toppings * 0.75\n",
    "\n",
    "        if pizza.extra_cheese:\n",
    "            total += 1.0\n",
    "\n",
    "        return total"
   ]
  },
  {
   "cell_type": "code",
   "execution_count": 22,
   "metadata": {},
   "outputs": [
    {
     "name": "stdout",
     "output_type": "stream",
     "text": [
      "<class '__main__.Pizza'>\n",
      "<__main__.Pizza object at 0x000001C9EAF78070>\n",
      "large\n",
      "12.25\n",
      "12.8625\n",
      "small\n",
      "9.450000000000001\n"
     ]
    }
   ],
   "source": [
    "a_pizza: Pizza = Pizza(\"large\", 3)\n",
    "print(Pizza)\n",
    "print(a_pizza)\n",
    "print(a_pizza.size)\n",
    "print(price(a_pizza))\n",
    "print(a_pizza.price(1.05))\n",
    "\n",
    "another_pizza: Pizza = Pizza(\"small\", 0)\n",
    "another_pizza.extra_cheese = True\n",
    "print(another_pizza.size)\n",
    "print(another_pizza.price(1.05))"
   ]
  },
  {
   "cell_type": "markdown",
   "metadata": {},
   "source": [
    "### class definitions work like function definitions in the stack/heap\n",
    "### when calling a class it creates object of that type\n",
    "### variable assigned to that object gives reference to the object in the heap like lists ig"
   ]
  }
 ],
 "metadata": {
  "kernelspec": {
   "display_name": "Python 3.10.6 64-bit",
   "language": "python",
   "name": "python3"
  },
  "language_info": {
   "codemirror_mode": {
    "name": "ipython",
    "version": 3
   },
   "file_extension": ".py",
   "mimetype": "text/x-python",
   "name": "python",
   "nbconvert_exporter": "python",
   "pygments_lexer": "ipython3",
   "version": "3.10.6"
  },
  "orig_nbformat": 4,
  "vscode": {
   "interpreter": {
    "hash": "cd594f79a7a93a838381d168c5eecdf860c8dc9c2acd8828aaae99c861ca3ef8"
   }
  }
 },
 "nbformat": 4,
 "nbformat_minor": 2
}
