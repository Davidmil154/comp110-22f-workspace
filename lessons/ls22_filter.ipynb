{
 "cells": [
  {
   "cell_type": "code",
   "execution_count": null,
   "metadata": {},
   "outputs": [],
   "source": []
  },
  {
   "cell_type": "code",
   "execution_count": 2,
   "metadata": {},
   "outputs": [
    {
     "data": {
      "text/plain": [
       "{'high': [77, 84, 78, 79, 65, 67, 74, 61, 55, 61],\n",
       " 'low': [67, 51, 64, 45, 43, 53, 56, 37, 34, 42],\n",
       " 'rain': [0.3, 0.2, 0.4, 0.8, 0.0, 0.2, 0.4, 0.5, 0.1, 0.1]}"
      ]
     },
     "execution_count": 2,
     "metadata": {},
     "output_type": "execute_result"
    }
   ],
   "source": [
    "col_data: dict[str, list[float]] = {\n",
    "    \"high\": [77,84,78,79,65,67,74,61,55,61],\n",
    "    \"low\": [67,51,64,45,43,53,56,37,34,42],\n",
    "    \"rain\": [.3,.2,.4,.8,0.,.2,.4,.5,.1,.1]\n",
    "}\n",
    "col_data"
   ]
  },
  {
   "cell_type": "code",
   "execution_count": 13,
   "metadata": {},
   "outputs": [
    {
     "name": "stdout",
     "output_type": "stream",
     "text": [
      "[False, True, False, False, True, True, False, False, True, True]\n"
     ]
    }
   ],
   "source": [
    "def less_than(col: list[float], threshold: float) -> list[bool]:\n",
    "    returner: list[bool] = []\n",
    "    for item in col:\n",
    "        returner.append(item < threshold)\n",
    "        #the above line is the same as the following\n",
    "        # if item < threshold:\n",
    "        #     returner.append(True)\n",
    "        # else: \n",
    "        #     returner.append(False)\n",
    "    return (returner)\n",
    "\n",
    "no_rain_mask: list[bool] = less_than(col_data[\"rain\"], 0.3)\n",
    "print(no_rain_mask)"
   ]
  },
  {
   "cell_type": "code",
   "execution_count": 12,
   "metadata": {},
   "outputs": [
    {
     "name": "stdout",
     "output_type": "stream",
     "text": [
      "[0.3, 0.2, 0.4, 0.8, 0.0, 0.2, 0.4, 0.5, 0.1, 0.1]\n",
      "[77, 84, 78, 79, 65, 67, 74, 61, 55, 61]\n"
     ]
    }
   ],
   "source": [
    "print(col_data[\"rain\"])\n",
    "print(col_data[\"high\"])"
   ]
  },
  {
   "cell_type": "code",
   "execution_count": 25,
   "metadata": {},
   "outputs": [
    {
     "name": "stdout",
     "output_type": "stream",
     "text": [
      "[0.3, 0.2, 0.4, 0.8, 0.0, 0.2, 0.4, 0.5, 0.1, 0.1]\n",
      "[False, True, False, False, True, True, False, False, True, True]\n",
      "[77, 84, 78, 79, 65, 67, 74, 61, 55, 61]\n",
      "[84, 65, 67, 55, 61]\n"
     ]
    }
   ],
   "source": [
    "def masked(mask: list[bool], col: list[float]) -> list[float]:\n",
    "    i = 0\n",
    "    returner: list[float] = []\n",
    "    while i < len(mask):\n",
    "        if mask[i]:\n",
    "        #same as if mask[i] == True:\n",
    "            returner.append(col[i])\n",
    "        i += 1\n",
    "    return returner\n",
    "\n",
    "print(col_data[\"rain\"])\n",
    "print(no_rain_mask)\n",
    "print(col_data[\"high\"])\n",
    "high_no_rain: list[float] = (masked(no_rain_mask, col_data[\"high\"]))\n",
    "print(high_no_rain)"
   ]
  },
  {
   "cell_type": "code",
   "execution_count": 26,
   "metadata": {},
   "outputs": [
    {
     "data": {
      "text/plain": [
       "66.4"
      ]
     },
     "execution_count": 26,
     "metadata": {},
     "output_type": "execute_result"
    }
   ],
   "source": [
    "def mean(col: list[float]) -> float:\n",
    "    return sum(col) / len(col)\n",
    "\n",
    "mean(high_no_rain)"
   ]
  },
  {
   "cell_type": "code",
   "execution_count": 30,
   "metadata": {},
   "outputs": [
    {
     "data": {
      "text/plain": [
       "0.30000000000000004"
      ]
     },
     "execution_count": 30,
     "metadata": {},
     "output_type": "execute_result"
    }
   ],
   "source": [
    "mean(masked(less_than(col_data[\"low\"], 50), col_data[\"rain\"]))"
   ]
  }
 ],
 "metadata": {
  "kernelspec": {
   "display_name": "Python 3.10.6 64-bit",
   "language": "python",
   "name": "python3"
  },
  "language_info": {
   "codemirror_mode": {
    "name": "ipython",
    "version": 3
   },
   "file_extension": ".py",
   "mimetype": "text/x-python",
   "name": "python",
   "nbconvert_exporter": "python",
   "pygments_lexer": "ipython3",
   "version": "3.10.6"
  },
  "orig_nbformat": 4,
  "vscode": {
   "interpreter": {
    "hash": "cd594f79a7a93a838381d168c5eecdf860c8dc9c2acd8828aaae99c861ca3ef8"
   }
  }
 },
 "nbformat": 4,
 "nbformat_minor": 2
}
